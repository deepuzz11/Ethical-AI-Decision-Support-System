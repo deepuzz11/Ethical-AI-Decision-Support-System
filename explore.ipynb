{
 "cells": [
  {
   "cell_type": "code",
   "execution_count": null,
   "metadata": {},
   "outputs": [],
   "source": [
    "import pandas as pd\n",
    "from sklearn.model_selection import train_test_split\n",
    "from sklearn.ensemble import RandomForestClassifier\n",
    "from sklearn.metrics import classification_report\n",
    "\n",
    "# Step 1: Load the dataset\n",
    "data = pd.read_csv('Main_Dataset.csv')\n",
    "\n",
    "# Step 2: Data Exploration\n",
    "print(data.head())\n",
    "print(data.info())\n",
    "print(data.describe())\n",
    "\n",
    "# Step 3: Handling missing data (if any)\n",
    "# Example: Drop rows with missing values\n",
    "data.dropna(inplace=True)\n",
    "\n",
    "# Step 4: Splitting data into features and target\n",
    "X = data.drop(['target'], axis=1)  # Adjust based on your dataset\n",
    "y = data['target']\n",
    "\n",
    "# Step 5: Splitting data into train and test sets\n",
    "X_train, X_test, y_train, y_test = train_test_split(X, y, test_size=0.2, random_state=42)\n",
    "\n",
    "# Step 6: Initialize model (example: RandomForestClassifier)\n",
    "model = RandomForestClassifier()\n",
    "\n",
    "# Step 7: Train the model\n",
    "model.fit(X_train, y_train)\n",
    "\n",
    "# Step 8: Make predictions\n",
    "y_pred = model.predict(X_test)\n",
    "\n",
    "# Step 9: Evaluate the model\n",
    "print(classification_report(y_test, y_pred))\n"
   ]
  }
 ],
 "metadata": {
  "language_info": {
   "name": "python"
  }
 },
 "nbformat": 4,
 "nbformat_minor": 2
}
